{
 "cells": [
  {
   "cell_type": "code",
   "execution_count": 1,
   "metadata": {},
   "outputs": [],
   "source": [
    "import pandas as pd\n",
    "import numpy as np\n",
    "import requests\n",
    "from tqdm import tqdm\n",
    "\n",
    "pd.set_option('display.max_columns',None)"
   ]
  },
  {
   "cell_type": "markdown",
   "metadata": {},
   "source": [
    "### Fetching Traffic Dataset"
   ]
  },
  {
   "cell_type": "code",
   "execution_count": 2,
   "metadata": {},
   "outputs": [],
   "source": [
    "BASE_URL = \"http://webtris.nationalhighways.co.uk/api/v1.0/\"\n",
    "SITE = 8184 #TMU Site 7004/1 on A46 northbound between A435 near Bishop's Cleeve and A44 near Evesham (south); GPS Ref: 51.46693541,-0.498590705; Northbound\n",
    "START_DATE = \"01062013\"\n",
    "END_DATE = \"21052023\"\n",
    "PAGE_SIZE = 40000"
   ]
  },
  {
   "cell_type": "code",
   "execution_count": 6,
   "metadata": {},
   "outputs": [],
   "source": [
    "def FetchTrafficDataFromAPI(base_url, site, start_date, end_date, page_size):\n",
    "    def generator():\n",
    "        while True:\n",
    "            yield\n",
    "            \n",
    "    df = None\n",
    "    for i,_ in enumerate(tqdm(generator())):\n",
    "        url = f\"{base_url}/reports/daily?sites={site}&start_date={start_date}&end_date={end_date}&page={i+1}&page_size={page_size}\"\n",
    "        response = requests.get(url)\n",
    "        if response.status_code == 200:\n",
    "            data = response.json()\n",
    "            temp = pd.DataFrame(data['Rows'])\n",
    "            if isinstance(df, pd.DataFrame):\n",
    "                df = pd.concat([df,temp])\n",
    "            else:\n",
    "                df = temp\n",
    "        if df['Report Date'].max()=='2023-04-01T00:00:00':\n",
    "            break\n",
    "    return df"
   ]
  },
  {
   "cell_type": "code",
   "execution_count": 7,
   "metadata": {},
   "outputs": [
    {
     "name": "stderr",
     "output_type": "stream",
     "text": [
      "7it [04:11, 35.97s/it]\n"
     ]
    },
    {
     "data": {
      "text/plain": [
       "(290705, 24)"
      ]
     },
     "execution_count": 7,
     "metadata": {},
     "output_type": "execute_result"
    }
   ],
   "source": [
    "traffic = FetchTrafficDataFromAPI(BASE_URL, SITE, START_DATE, END_DATE, PAGE_SIZE)\n",
    "traffic.shape"
   ]
  },
  {
   "cell_type": "code",
   "execution_count": 8,
   "metadata": {},
   "outputs": [
    {
     "data": {
      "text/plain": [
       "('2013-06-01T00:00:00', '2023-04-01T00:00:00')"
      ]
     },
     "execution_count": 8,
     "metadata": {},
     "output_type": "execute_result"
    }
   ],
   "source": [
    "traffic['Report Date'].min(), traffic['Report Date'].max()"
   ]
  },
  {
   "cell_type": "code",
   "execution_count": 16,
   "metadata": {},
   "outputs": [],
   "source": [
    "traffic = traffic[[\"Site Name\",\"Report Date\",\"Time Period Ending\",\"Avg mph\",\"Total Volume\"]]"
   ]
  },
  {
   "cell_type": "code",
   "execution_count": 17,
   "metadata": {},
   "outputs": [
    {
     "data": {
      "text/html": [
       "<div>\n",
       "<style scoped>\n",
       "    .dataframe tbody tr th:only-of-type {\n",
       "        vertical-align: middle;\n",
       "    }\n",
       "\n",
       "    .dataframe tbody tr th {\n",
       "        vertical-align: top;\n",
       "    }\n",
       "\n",
       "    .dataframe thead th {\n",
       "        text-align: right;\n",
       "    }\n",
       "</style>\n",
       "<table border=\"1\" class=\"dataframe\">\n",
       "  <thead>\n",
       "    <tr style=\"text-align: right;\">\n",
       "      <th></th>\n",
       "      <th>Site Name</th>\n",
       "      <th>Report Date</th>\n",
       "      <th>Time Period Ending</th>\n",
       "      <th>Avg mph</th>\n",
       "      <th>Total Volume</th>\n",
       "    </tr>\n",
       "  </thead>\n",
       "  <tbody>\n",
       "    <tr>\n",
       "      <th>0</th>\n",
       "      <td>7004/1</td>\n",
       "      <td>2013-06-01T00:00:00</td>\n",
       "      <td>00:59:00</td>\n",
       "      <td></td>\n",
       "      <td>69</td>\n",
       "    </tr>\n",
       "    <tr>\n",
       "      <th>1</th>\n",
       "      <td>7004/1</td>\n",
       "      <td>2013-06-01T00:00:00</td>\n",
       "      <td>01:59:00</td>\n",
       "      <td></td>\n",
       "      <td>33</td>\n",
       "    </tr>\n",
       "    <tr>\n",
       "      <th>2</th>\n",
       "      <td>7004/1</td>\n",
       "      <td>2013-06-01T00:00:00</td>\n",
       "      <td>02:59:00</td>\n",
       "      <td></td>\n",
       "      <td>23</td>\n",
       "    </tr>\n",
       "    <tr>\n",
       "      <th>3</th>\n",
       "      <td>7004/1</td>\n",
       "      <td>2013-06-01T00:00:00</td>\n",
       "      <td>03:59:00</td>\n",
       "      <td></td>\n",
       "      <td>24</td>\n",
       "    </tr>\n",
       "    <tr>\n",
       "      <th>4</th>\n",
       "      <td>7004/1</td>\n",
       "      <td>2013-06-01T00:00:00</td>\n",
       "      <td>04:59:00</td>\n",
       "      <td></td>\n",
       "      <td>26</td>\n",
       "    </tr>\n",
       "  </tbody>\n",
       "</table>\n",
       "</div>"
      ],
      "text/plain": [
       "  Site Name          Report Date Time Period Ending Avg mph Total Volume\n",
       "0    7004/1  2013-06-01T00:00:00           00:59:00                   69\n",
       "1    7004/1  2013-06-01T00:00:00           01:59:00                   33\n",
       "2    7004/1  2013-06-01T00:00:00           02:59:00                   23\n",
       "3    7004/1  2013-06-01T00:00:00           03:59:00                   24\n",
       "4    7004/1  2013-06-01T00:00:00           04:59:00                   26"
      ]
     },
     "execution_count": 17,
     "metadata": {},
     "output_type": "execute_result"
    }
   ],
   "source": [
    "traffic.head()"
   ]
  },
  {
   "cell_type": "code",
   "execution_count": 19,
   "metadata": {},
   "outputs": [],
   "source": [
    "traffic.to_excel('dataset/traffic_data_2013-23.xlsx', index=False)"
   ]
  },
  {
   "cell_type": "markdown",
   "metadata": {},
   "source": [
    "### Fetching Weather Dataset"
   ]
  },
  {
   "cell_type": "code",
   "execution_count": 26,
   "metadata": {},
   "outputs": [],
   "source": [
    "BASE_URL = \"https://archive-api.open-meteo.com/v1/archive?\"\n",
    "LATITUDE = 51.4669\n",
    "LONGITUDE = -0.4986\n",
    "START_DATE = \"2013-06-01\"\n",
    "END_DATE = \"2023-03-31\"\n",
    "REQUIREMENTS = \"temperature_2m,relativehumidity_2m,precipitation,rain,snowfall,weathercode,windspeed_10m\""
   ]
  },
  {
   "cell_type": "code",
   "execution_count": 29,
   "metadata": {},
   "outputs": [],
   "source": [
    "def FetchWeatherDataFromAPI(base_url, latitude, longitude, start_date, end_date, requirements):   \n",
    "    url = f\"{base_url}latitude={latitude}&longitude={longitude}&start_date={start_date}&end_date={end_date}&hourly={requirements}\"\n",
    "    response = requests.get(url)\n",
    "    if response.status_code == 200:\n",
    "        data = response.json()\n",
    "        df = pd.DataFrame(data['hourly'])\n",
    "    else:\n",
    "        print('Error: ', response.status_code)\n",
    "    return df"
   ]
  },
  {
   "cell_type": "code",
   "execution_count": 31,
   "metadata": {},
   "outputs": [
    {
     "data": {
      "text/plain": [
       "(86184, 8)"
      ]
     },
     "execution_count": 31,
     "metadata": {},
     "output_type": "execute_result"
    }
   ],
   "source": [
    "weather = FetchWeatherDataFromAPI(BASE_URL, LATITUDE, LONGITUDE, START_DATE, END_DATE, REQUIREMENTS)\n",
    "weather.shape"
   ]
  },
  {
   "cell_type": "code",
   "execution_count": 32,
   "metadata": {},
   "outputs": [
    {
     "data": {
      "text/html": [
       "<div>\n",
       "<style scoped>\n",
       "    .dataframe tbody tr th:only-of-type {\n",
       "        vertical-align: middle;\n",
       "    }\n",
       "\n",
       "    .dataframe tbody tr th {\n",
       "        vertical-align: top;\n",
       "    }\n",
       "\n",
       "    .dataframe thead th {\n",
       "        text-align: right;\n",
       "    }\n",
       "</style>\n",
       "<table border=\"1\" class=\"dataframe\">\n",
       "  <thead>\n",
       "    <tr style=\"text-align: right;\">\n",
       "      <th></th>\n",
       "      <th>time</th>\n",
       "      <th>temperature_2m</th>\n",
       "      <th>relativehumidity_2m</th>\n",
       "      <th>precipitation</th>\n",
       "      <th>rain</th>\n",
       "      <th>snowfall</th>\n",
       "      <th>weathercode</th>\n",
       "      <th>windspeed_10m</th>\n",
       "    </tr>\n",
       "  </thead>\n",
       "  <tbody>\n",
       "    <tr>\n",
       "      <th>0</th>\n",
       "      <td>2013-06-01T00:00</td>\n",
       "      <td>11.7</td>\n",
       "      <td>78</td>\n",
       "      <td>0.0</td>\n",
       "      <td>0.0</td>\n",
       "      <td>0.0</td>\n",
       "      <td>1</td>\n",
       "      <td>18.5</td>\n",
       "    </tr>\n",
       "    <tr>\n",
       "      <th>1</th>\n",
       "      <td>2013-06-01T01:00</td>\n",
       "      <td>10.9</td>\n",
       "      <td>80</td>\n",
       "      <td>0.0</td>\n",
       "      <td>0.0</td>\n",
       "      <td>0.0</td>\n",
       "      <td>0</td>\n",
       "      <td>17.9</td>\n",
       "    </tr>\n",
       "    <tr>\n",
       "      <th>2</th>\n",
       "      <td>2013-06-01T02:00</td>\n",
       "      <td>10.2</td>\n",
       "      <td>81</td>\n",
       "      <td>0.0</td>\n",
       "      <td>0.0</td>\n",
       "      <td>0.0</td>\n",
       "      <td>0</td>\n",
       "      <td>17.6</td>\n",
       "    </tr>\n",
       "    <tr>\n",
       "      <th>3</th>\n",
       "      <td>2013-06-01T03:00</td>\n",
       "      <td>9.5</td>\n",
       "      <td>80</td>\n",
       "      <td>0.0</td>\n",
       "      <td>0.0</td>\n",
       "      <td>0.0</td>\n",
       "      <td>0</td>\n",
       "      <td>16.7</td>\n",
       "    </tr>\n",
       "    <tr>\n",
       "      <th>4</th>\n",
       "      <td>2013-06-01T04:00</td>\n",
       "      <td>8.9</td>\n",
       "      <td>79</td>\n",
       "      <td>0.0</td>\n",
       "      <td>0.0</td>\n",
       "      <td>0.0</td>\n",
       "      <td>0</td>\n",
       "      <td>16.1</td>\n",
       "    </tr>\n",
       "  </tbody>\n",
       "</table>\n",
       "</div>"
      ],
      "text/plain": [
       "               time  temperature_2m  relativehumidity_2m  precipitation  rain  \\\n",
       "0  2013-06-01T00:00            11.7                   78            0.0   0.0   \n",
       "1  2013-06-01T01:00            10.9                   80            0.0   0.0   \n",
       "2  2013-06-01T02:00            10.2                   81            0.0   0.0   \n",
       "3  2013-06-01T03:00             9.5                   80            0.0   0.0   \n",
       "4  2013-06-01T04:00             8.9                   79            0.0   0.0   \n",
       "\n",
       "   snowfall  weathercode  windspeed_10m  \n",
       "0       0.0            1           18.5  \n",
       "1       0.0            0           17.9  \n",
       "2       0.0            0           17.6  \n",
       "3       0.0            0           16.7  \n",
       "4       0.0            0           16.1  "
      ]
     },
     "execution_count": 32,
     "metadata": {},
     "output_type": "execute_result"
    }
   ],
   "source": [
    "weather.head()"
   ]
  },
  {
   "cell_type": "code",
   "execution_count": 33,
   "metadata": {},
   "outputs": [],
   "source": [
    "weather.to_excel('dataset/weather_data_2013-23.xlsx', index=False)"
   ]
  },
  {
   "cell_type": "code",
   "execution_count": null,
   "metadata": {},
   "outputs": [],
   "source": []
  }
 ],
 "metadata": {
  "kernelspec": {
   "display_name": "Python 3",
   "language": "python",
   "name": "python3"
  },
  "language_info": {
   "codemirror_mode": {
    "name": "ipython",
    "version": 3
   },
   "file_extension": ".py",
   "mimetype": "text/x-python",
   "name": "python",
   "nbconvert_exporter": "python",
   "pygments_lexer": "ipython3",
   "version": "3.7.4"
  }
 },
 "nbformat": 4,
 "nbformat_minor": 4
}
