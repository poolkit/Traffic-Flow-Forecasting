{
 "cells": [
  {
   "cell_type": "code",
   "execution_count": 1,
   "metadata": {},
   "outputs": [],
   "source": [
    "import pandas as pd\n",
    "import numpy as np\n",
    "import matplotlib.pyplot as plt\n",
    "from datetime import datetime"
   ]
  },
  {
   "cell_type": "markdown",
   "metadata": {},
   "source": [
    "### Ground truth"
   ]
  },
  {
   "cell_type": "code",
   "execution_count": 11,
   "metadata": {},
   "outputs": [],
   "source": [
    "test = pd.read_excel(\"dataset/raw/traffic_data_2013-23.xlsx\")"
   ]
  },
  {
   "cell_type": "code",
   "execution_count": 12,
   "metadata": {},
   "outputs": [],
   "source": [
    "test['Date'] = pd.to_datetime(test['Report Date'])\n",
    "test['Hour'] = pd.to_timedelta(test['Time Period Ending'].str.slice(0, 2) + ':00:00')\n",
    "test['Datetime'] = test['Date'] + test['Hour']"
   ]
  },
  {
   "cell_type": "code",
   "execution_count": 13,
   "metadata": {},
   "outputs": [],
   "source": [
    "test.drop(['Site Name','Report Date','Time Period Ending','Avg mph','Date','Hour'], axis=1, inplace=True)"
   ]
  },
  {
   "cell_type": "code",
   "execution_count": 14,
   "metadata": {},
   "outputs": [],
   "source": [
    "test = test.groupby('Datetime')['Total Volume'].sum().reset_index()"
   ]
  },
  {
   "cell_type": "code",
   "execution_count": 15,
   "metadata": {},
   "outputs": [],
   "source": [
    "test = test.set_index('Datetime')\n",
    "date_range = pd.date_range(start=test.index.min(), end=test.index.max(), freq='H')\n",
    "test = test.reindex(date_range, fill_value=np.nan)\n",
    "test.index.names = ['Datetime']"
   ]
  },
  {
   "cell_type": "code",
   "execution_count": 19,
   "metadata": {},
   "outputs": [],
   "source": [
    "test = test[(test.index >= \"2020-01-01 00:00:00\") & (test.index < \"2020-02-01 00:00:00\")]"
   ]
  },
  {
   "cell_type": "code",
   "execution_count": 20,
   "metadata": {},
   "outputs": [
    {
     "data": {
      "text/html": [
       "<div>\n",
       "<style scoped>\n",
       "    .dataframe tbody tr th:only-of-type {\n",
       "        vertical-align: middle;\n",
       "    }\n",
       "\n",
       "    .dataframe tbody tr th {\n",
       "        vertical-align: top;\n",
       "    }\n",
       "\n",
       "    .dataframe thead th {\n",
       "        text-align: right;\n",
       "    }\n",
       "</style>\n",
       "<table border=\"1\" class=\"dataframe\">\n",
       "  <thead>\n",
       "    <tr style=\"text-align: right;\">\n",
       "      <th></th>\n",
       "      <th>Total Volume</th>\n",
       "    </tr>\n",
       "    <tr>\n",
       "      <th>Datetime</th>\n",
       "      <th></th>\n",
       "    </tr>\n",
       "  </thead>\n",
       "  <tbody>\n",
       "    <tr>\n",
       "      <th>2020-01-01 00:00:00</th>\n",
       "      <td>61.0</td>\n",
       "    </tr>\n",
       "    <tr>\n",
       "      <th>2020-01-01 01:00:00</th>\n",
       "      <td>62.0</td>\n",
       "    </tr>\n",
       "    <tr>\n",
       "      <th>2020-01-01 02:00:00</th>\n",
       "      <td>36.0</td>\n",
       "    </tr>\n",
       "    <tr>\n",
       "      <th>2020-01-01 03:00:00</th>\n",
       "      <td>22.0</td>\n",
       "    </tr>\n",
       "    <tr>\n",
       "      <th>2020-01-01 04:00:00</th>\n",
       "      <td>17.0</td>\n",
       "    </tr>\n",
       "    <tr>\n",
       "      <th>...</th>\n",
       "      <td>...</td>\n",
       "    </tr>\n",
       "    <tr>\n",
       "      <th>2020-01-31 19:00:00</th>\n",
       "      <td>381.0</td>\n",
       "    </tr>\n",
       "    <tr>\n",
       "      <th>2020-01-31 20:00:00</th>\n",
       "      <td>233.0</td>\n",
       "    </tr>\n",
       "    <tr>\n",
       "      <th>2020-01-31 21:00:00</th>\n",
       "      <td>189.0</td>\n",
       "    </tr>\n",
       "    <tr>\n",
       "      <th>2020-01-31 22:00:00</th>\n",
       "      <td>188.0</td>\n",
       "    </tr>\n",
       "    <tr>\n",
       "      <th>2020-01-31 23:00:00</th>\n",
       "      <td>98.0</td>\n",
       "    </tr>\n",
       "  </tbody>\n",
       "</table>\n",
       "<p>744 rows × 1 columns</p>\n",
       "</div>"
      ],
      "text/plain": [
       "                     Total Volume\n",
       "Datetime                         \n",
       "2020-01-01 00:00:00          61.0\n",
       "2020-01-01 01:00:00          62.0\n",
       "2020-01-01 02:00:00          36.0\n",
       "2020-01-01 03:00:00          22.0\n",
       "2020-01-01 04:00:00          17.0\n",
       "...                           ...\n",
       "2020-01-31 19:00:00         381.0\n",
       "2020-01-31 20:00:00         233.0\n",
       "2020-01-31 21:00:00         189.0\n",
       "2020-01-31 22:00:00         188.0\n",
       "2020-01-31 23:00:00          98.0\n",
       "\n",
       "[744 rows x 1 columns]"
      ]
     },
     "execution_count": 20,
     "metadata": {},
     "output_type": "execute_result"
    }
   ],
   "source": [
    "test"
   ]
  },
  {
   "cell_type": "code",
   "execution_count": 25,
   "metadata": {},
   "outputs": [
    {
     "data": {
      "text/plain": [
       "<AxesSubplot:xlabel='Datetime'>"
      ]
     },
     "execution_count": 25,
     "metadata": {},
     "output_type": "execute_result"
    },
    {
     "data": {
      "image/png": "[encoded data removed]",
      "text/plain": [
       "<Figure size 432x288 with 1 Axes>"
      ]
     },
     "metadata": {
      "needs_background": "light"
     },
     "output_type": "display_data"
    }
   ],
   "source": [
    "test.plot()"
   ]
  },
  {
   "cell_type": "markdown",
   "metadata": {},
   "source": [
    "### Preparing testing set"
   ]
  },
  {
   "cell_type": "code",
   "execution_count": 30,
   "metadata": {},
   "outputs": [
    {
     "data": {
      "text/plain": [
       "(57720, 17)"
      ]
     },
     "execution_count": 30,
     "metadata": {},
     "output_type": "execute_result"
    }
   ],
   "source": [
    "train = pd.read_csv(\"dataset/processed/traffic-weather-data.csv\")\n",
    "train.shape"
   ]
  },
  {
   "cell_type": "code",
   "execution_count": 31,
   "metadata": {},
   "outputs": [],
   "source": [
    "train['Datetime'] = pd.to_datetime(train['Datetime'])\n",
    "train = train.set_index('Datetime')"
   ]
  },
  {
   "cell_type": "code",
   "execution_count": 32,
   "metadata": {},
   "outputs": [],
   "source": [
    "take_n_dates_past = 7\n",
    "forecast_n_dates_future = 2\n",
    "\n",
    "n_past = 24*take_n_dates_past\n",
    "n_future = 24*forecast_n_dates_future"
   ]
  },
  {
   "cell_type": "code",
   "execution_count": 33,
   "metadata": {},
   "outputs": [],
   "source": [
    "chunk = train.iloc[len(train)-n_future+1-n_past:]"
   ]
  },
  {
   "cell_type": "code",
   "execution_count": 34,
   "metadata": {},
   "outputs": [
    {
     "data": {
      "text/plain": [
       "(Timestamp('2019-12-23 01:00:00'), Timestamp('2019-12-31 23:00:00'))"
      ]
     },
     "execution_count": 34,
     "metadata": {},
     "output_type": "execute_result"
    }
   ],
   "source": [
    "chunk.index.min(), chunk.index.max()"
   ]
  },
  {
   "cell_type": "code",
   "execution_count": null,
   "metadata": {},
   "outputs": [],
   "source": [
    "def AppendRow(df, date, volume):\n",
    "    "
   ]
  },
  {
   "cell_type": "code",
   "execution_count": null,
   "metadata": {},
   "outputs": [],
   "source": []
  },
  {
   "cell_type": "code",
   "execution_count": 35,
   "metadata": {},
   "outputs": [
    {
     "data": {
      "text/html": [
       "<div>\n",
       "<style scoped>\n",
       "    .dataframe tbody tr th:only-of-type {\n",
       "        vertical-align: middle;\n",
       "    }\n",
       "\n",
       "    .dataframe tbody tr th {\n",
       "        vertical-align: top;\n",
       "    }\n",
       "\n",
       "    .dataframe thead th {\n",
       "        text-align: right;\n",
       "    }\n",
       "</style>\n",
       "<table border=\"1\" class=\"dataframe\">\n",
       "  <thead>\n",
       "    <tr style=\"text-align: right;\">\n",
       "      <th></th>\n",
       "      <th>Total Volume</th>\n",
       "      <th>Year</th>\n",
       "      <th>Day</th>\n",
       "      <th>sin_Month</th>\n",
       "      <th>cos_Month</th>\n",
       "      <th>sin_DayOfWeek</th>\n",
       "      <th>cos_DayOfWeek</th>\n",
       "      <th>sin_Hour</th>\n",
       "      <th>cos_Hour</th>\n",
       "      <th>temperature_2m</th>\n",
       "      <th>relativehumidity_2m</th>\n",
       "      <th>precipitation</th>\n",
       "      <th>rain</th>\n",
       "      <th>snowfall</th>\n",
       "      <th>weathercode</th>\n",
       "      <th>windspeed_10m</th>\n",
       "    </tr>\n",
       "    <tr>\n",
       "      <th>Datetime</th>\n",
       "      <th></th>\n",
       "      <th></th>\n",
       "      <th></th>\n",
       "      <th></th>\n",
       "      <th></th>\n",
       "      <th></th>\n",
       "      <th></th>\n",
       "      <th></th>\n",
       "      <th></th>\n",
       "      <th></th>\n",
       "      <th></th>\n",
       "      <th></th>\n",
       "      <th></th>\n",
       "      <th></th>\n",
       "      <th></th>\n",
       "      <th></th>\n",
       "    </tr>\n",
       "  </thead>\n",
       "  <tbody>\n",
       "    <tr>\n",
       "      <th>2019-12-23 01:00:00</th>\n",
       "      <td>23.0</td>\n",
       "      <td>2019</td>\n",
       "      <td>23</td>\n",
       "      <td>-2.449294e-16</td>\n",
       "      <td>1.0</td>\n",
       "      <td>0.000000</td>\n",
       "      <td>1.00000</td>\n",
       "      <td>0.258819</td>\n",
       "      <td>0.965926</td>\n",
       "      <td>5.6</td>\n",
       "      <td>92</td>\n",
       "      <td>0.0</td>\n",
       "      <td>0.0</td>\n",
       "      <td>0.0</td>\n",
       "      <td>0</td>\n",
       "      <td>18.2</td>\n",
       "    </tr>\n",
       "    <tr>\n",
       "      <th>2019-12-23 02:00:00</th>\n",
       "      <td>12.0</td>\n",
       "      <td>2019</td>\n",
       "      <td>23</td>\n",
       "      <td>-2.449294e-16</td>\n",
       "      <td>1.0</td>\n",
       "      <td>0.000000</td>\n",
       "      <td>1.00000</td>\n",
       "      <td>0.500000</td>\n",
       "      <td>0.866025</td>\n",
       "      <td>5.7</td>\n",
       "      <td>92</td>\n",
       "      <td>0.0</td>\n",
       "      <td>0.0</td>\n",
       "      <td>0.0</td>\n",
       "      <td>0</td>\n",
       "      <td>18.1</td>\n",
       "    </tr>\n",
       "    <tr>\n",
       "      <th>2019-12-23 03:00:00</th>\n",
       "      <td>22.0</td>\n",
       "      <td>2019</td>\n",
       "      <td>23</td>\n",
       "      <td>-2.449294e-16</td>\n",
       "      <td>1.0</td>\n",
       "      <td>0.000000</td>\n",
       "      <td>1.00000</td>\n",
       "      <td>0.707107</td>\n",
       "      <td>0.707107</td>\n",
       "      <td>5.8</td>\n",
       "      <td>92</td>\n",
       "      <td>0.0</td>\n",
       "      <td>0.0</td>\n",
       "      <td>0.0</td>\n",
       "      <td>0</td>\n",
       "      <td>19.0</td>\n",
       "    </tr>\n",
       "    <tr>\n",
       "      <th>2019-12-23 04:00:00</th>\n",
       "      <td>32.0</td>\n",
       "      <td>2019</td>\n",
       "      <td>23</td>\n",
       "      <td>-2.449294e-16</td>\n",
       "      <td>1.0</td>\n",
       "      <td>0.000000</td>\n",
       "      <td>1.00000</td>\n",
       "      <td>0.866025</td>\n",
       "      <td>0.500000</td>\n",
       "      <td>6.1</td>\n",
       "      <td>92</td>\n",
       "      <td>0.0</td>\n",
       "      <td>0.0</td>\n",
       "      <td>0.0</td>\n",
       "      <td>1</td>\n",
       "      <td>19.7</td>\n",
       "    </tr>\n",
       "    <tr>\n",
       "      <th>2019-12-23 05:00:00</th>\n",
       "      <td>78.0</td>\n",
       "      <td>2019</td>\n",
       "      <td>23</td>\n",
       "      <td>-2.449294e-16</td>\n",
       "      <td>1.0</td>\n",
       "      <td>0.000000</td>\n",
       "      <td>1.00000</td>\n",
       "      <td>0.965926</td>\n",
       "      <td>0.258819</td>\n",
       "      <td>6.6</td>\n",
       "      <td>89</td>\n",
       "      <td>0.0</td>\n",
       "      <td>0.0</td>\n",
       "      <td>0.0</td>\n",
       "      <td>2</td>\n",
       "      <td>20.5</td>\n",
       "    </tr>\n",
       "    <tr>\n",
       "      <th>...</th>\n",
       "      <td>...</td>\n",
       "      <td>...</td>\n",
       "      <td>...</td>\n",
       "      <td>...</td>\n",
       "      <td>...</td>\n",
       "      <td>...</td>\n",
       "      <td>...</td>\n",
       "      <td>...</td>\n",
       "      <td>...</td>\n",
       "      <td>...</td>\n",
       "      <td>...</td>\n",
       "      <td>...</td>\n",
       "      <td>...</td>\n",
       "      <td>...</td>\n",
       "      <td>...</td>\n",
       "      <td>...</td>\n",
       "    </tr>\n",
       "    <tr>\n",
       "      <th>2019-12-31 19:00:00</th>\n",
       "      <td>194.0</td>\n",
       "      <td>2019</td>\n",
       "      <td>31</td>\n",
       "      <td>-2.449294e-16</td>\n",
       "      <td>1.0</td>\n",
       "      <td>0.781831</td>\n",
       "      <td>0.62349</td>\n",
       "      <td>-0.965926</td>\n",
       "      <td>0.258819</td>\n",
       "      <td>7.2</td>\n",
       "      <td>97</td>\n",
       "      <td>0.0</td>\n",
       "      <td>0.0</td>\n",
       "      <td>0.0</td>\n",
       "      <td>3</td>\n",
       "      <td>14.6</td>\n",
       "    </tr>\n",
       "    <tr>\n",
       "      <th>2019-12-31 20:00:00</th>\n",
       "      <td>134.0</td>\n",
       "      <td>2019</td>\n",
       "      <td>31</td>\n",
       "      <td>-2.449294e-16</td>\n",
       "      <td>1.0</td>\n",
       "      <td>0.781831</td>\n",
       "      <td>0.62349</td>\n",
       "      <td>-0.866025</td>\n",
       "      <td>0.500000</td>\n",
       "      <td>7.0</td>\n",
       "      <td>97</td>\n",
       "      <td>0.0</td>\n",
       "      <td>0.0</td>\n",
       "      <td>0.0</td>\n",
       "      <td>3</td>\n",
       "      <td>15.0</td>\n",
       "    </tr>\n",
       "    <tr>\n",
       "      <th>2019-12-31 21:00:00</th>\n",
       "      <td>71.0</td>\n",
       "      <td>2019</td>\n",
       "      <td>31</td>\n",
       "      <td>-2.449294e-16</td>\n",
       "      <td>1.0</td>\n",
       "      <td>0.781831</td>\n",
       "      <td>0.62349</td>\n",
       "      <td>-0.707107</td>\n",
       "      <td>0.707107</td>\n",
       "      <td>6.6</td>\n",
       "      <td>97</td>\n",
       "      <td>0.0</td>\n",
       "      <td>0.0</td>\n",
       "      <td>0.0</td>\n",
       "      <td>2</td>\n",
       "      <td>14.8</td>\n",
       "    </tr>\n",
       "    <tr>\n",
       "      <th>2019-12-31 22:00:00</th>\n",
       "      <td>53.0</td>\n",
       "      <td>2019</td>\n",
       "      <td>31</td>\n",
       "      <td>-2.449294e-16</td>\n",
       "      <td>1.0</td>\n",
       "      <td>0.781831</td>\n",
       "      <td>0.62349</td>\n",
       "      <td>-0.500000</td>\n",
       "      <td>0.866025</td>\n",
       "      <td>6.2</td>\n",
       "      <td>96</td>\n",
       "      <td>0.0</td>\n",
       "      <td>0.0</td>\n",
       "      <td>0.0</td>\n",
       "      <td>2</td>\n",
       "      <td>13.2</td>\n",
       "    </tr>\n",
       "    <tr>\n",
       "      <th>2019-12-31 23:00:00</th>\n",
       "      <td>39.0</td>\n",
       "      <td>2019</td>\n",
       "      <td>31</td>\n",
       "      <td>-2.449294e-16</td>\n",
       "      <td>1.0</td>\n",
       "      <td>0.781831</td>\n",
       "      <td>0.62349</td>\n",
       "      <td>-0.258819</td>\n",
       "      <td>0.965926</td>\n",
       "      <td>5.8</td>\n",
       "      <td>95</td>\n",
       "      <td>0.0</td>\n",
       "      <td>0.0</td>\n",
       "      <td>0.0</td>\n",
       "      <td>2</td>\n",
       "      <td>12.6</td>\n",
       "    </tr>\n",
       "  </tbody>\n",
       "</table>\n",
       "<p>215 rows × 16 columns</p>\n",
       "</div>"
      ],
      "text/plain": [
       "                     Total Volume  Year  Day     sin_Month  cos_Month  \\\n",
       "Datetime                                                                \n",
       "2019-12-23 01:00:00          23.0  2019   23 -2.449294e-16        1.0   \n",
       "2019-12-23 02:00:00          12.0  2019   23 -2.449294e-16        1.0   \n",
       "2019-12-23 03:00:00          22.0  2019   23 -2.449294e-16        1.0   \n",
       "2019-12-23 04:00:00          32.0  2019   23 -2.449294e-16        1.0   \n",
       "2019-12-23 05:00:00          78.0  2019   23 -2.449294e-16        1.0   \n",
       "...                           ...   ...  ...           ...        ...   \n",
       "2019-12-31 19:00:00         194.0  2019   31 -2.449294e-16        1.0   \n",
       "2019-12-31 20:00:00         134.0  2019   31 -2.449294e-16        1.0   \n",
       "2019-12-31 21:00:00          71.0  2019   31 -2.449294e-16        1.0   \n",
       "2019-12-31 22:00:00          53.0  2019   31 -2.449294e-16        1.0   \n",
       "2019-12-31 23:00:00          39.0  2019   31 -2.449294e-16        1.0   \n",
       "\n",
       "                     sin_DayOfWeek  cos_DayOfWeek  sin_Hour  cos_Hour  \\\n",
       "Datetime                                                                \n",
       "2019-12-23 01:00:00       0.000000        1.00000  0.258819  0.965926   \n",
       "2019-12-23 02:00:00       0.000000        1.00000  0.500000  0.866025   \n",
       "2019-12-23 03:00:00       0.000000        1.00000  0.707107  0.707107   \n",
       "2019-12-23 04:00:00       0.000000        1.00000  0.866025  0.500000   \n",
       "2019-12-23 05:00:00       0.000000        1.00000  0.965926  0.258819   \n",
       "...                            ...            ...       ...       ...   \n",
       "2019-12-31 19:00:00       0.781831        0.62349 -0.965926  0.258819   \n",
       "2019-12-31 20:00:00       0.781831        0.62349 -0.866025  0.500000   \n",
       "2019-12-31 21:00:00       0.781831        0.62349 -0.707107  0.707107   \n",
       "2019-12-31 22:00:00       0.781831        0.62349 -0.500000  0.866025   \n",
       "2019-12-31 23:00:00       0.781831        0.62349 -0.258819  0.965926   \n",
       "\n",
       "                     temperature_2m  relativehumidity_2m  precipitation  rain  \\\n",
       "Datetime                                                                        \n",
       "2019-12-23 01:00:00             5.6                   92            0.0   0.0   \n",
       "2019-12-23 02:00:00             5.7                   92            0.0   0.0   \n",
       "2019-12-23 03:00:00             5.8                   92            0.0   0.0   \n",
       "2019-12-23 04:00:00             6.1                   92            0.0   0.0   \n",
       "2019-12-23 05:00:00             6.6                   89            0.0   0.0   \n",
       "...                             ...                  ...            ...   ...   \n",
       "2019-12-31 19:00:00             7.2                   97            0.0   0.0   \n",
       "2019-12-31 20:00:00             7.0                   97            0.0   0.0   \n",
       "2019-12-31 21:00:00             6.6                   97            0.0   0.0   \n",
       "2019-12-31 22:00:00             6.2                   96            0.0   0.0   \n",
       "2019-12-31 23:00:00             5.8                   95            0.0   0.0   \n",
       "\n",
       "                     snowfall  weathercode  windspeed_10m  \n",
       "Datetime                                                   \n",
       "2019-12-23 01:00:00       0.0            0           18.2  \n",
       "2019-12-23 02:00:00       0.0            0           18.1  \n",
       "2019-12-23 03:00:00       0.0            0           19.0  \n",
       "2019-12-23 04:00:00       0.0            1           19.7  \n",
       "2019-12-23 05:00:00       0.0            2           20.5  \n",
       "...                       ...          ...            ...  \n",
       "2019-12-31 19:00:00       0.0            3           14.6  \n",
       "2019-12-31 20:00:00       0.0            3           15.0  \n",
       "2019-12-31 21:00:00       0.0            2           14.8  \n",
       "2019-12-31 22:00:00       0.0            2           13.2  \n",
       "2019-12-31 23:00:00       0.0            2           12.6  \n",
       "\n",
       "[215 rows x 16 columns]"
      ]
     },
     "execution_count": 35,
     "metadata": {},
     "output_type": "execute_result"
    }
   ],
   "source": [
    "chunk"
   ]
  },
  {
   "cell_type": "code",
   "execution_count": 45,
   "metadata": {},
   "outputs": [
    {
     "name": "stdout",
     "output_type": "stream",
     "text": [
      "0 2019-12-23 01:00:00\n",
      "1 2019-12-23 02:00:00\n",
      "2 2019-12-23 03:00:00\n",
      "3 2019-12-23 04:00:00\n",
      "4 2019-12-23 05:00:00\n",
      "5 2019-12-23 06:00:00\n",
      "6 2019-12-23 07:00:00\n",
      "7 2019-12-23 08:00:00\n",
      "8 2019-12-23 09:00:00\n",
      "9 2019-12-23 10:00:00\n",
      "10 2019-12-23 11:00:00\n",
      "11 2019-12-23 12:00:00\n",
      "12 2019-12-23 13:00:00\n",
      "13 2019-12-23 14:00:00\n",
      "14 2019-12-23 15:00:00\n",
      "15 2019-12-23 16:00:00\n",
      "16 2019-12-23 17:00:00\n",
      "17 2019-12-23 18:00:00\n",
      "18 2019-12-23 19:00:00\n",
      "19 2019-12-23 20:00:00\n",
      "20 2019-12-23 21:00:00\n",
      "21 2019-12-23 22:00:00\n",
      "22 2019-12-23 23:00:00\n",
      "23 2019-12-24 00:00:00\n",
      "24 2019-12-24 01:00:00\n"
     ]
    }
   ],
   "source": [
    "from datetime import datetime, timedelta\n",
    "x = pd.date_range(start='2019-12-23 01:00:00', end='2019-12-24 01:00:00', freq='H')\n",
    "m = x[0]\n",
    "for i, d in enumerate(x):\n",
    "    print(i, d)"
   ]
  },
  {
   "cell_type": "code",
   "execution_count": null,
   "metadata": {},
   "outputs": [],
   "source": []
  }
 ],
 "metadata": {
  "kernelspec": {
   "display_name": "Python 3",
   "language": "python",
   "name": "python3"
  },
  "language_info": {
   "codemirror_mode": {
    "name": "ipython",
    "version": 3
   },
   "file_extension": ".py",
   "mimetype": "text/x-python",
   "name": "python",
   "nbconvert_exporter": "python",
   "pygments_lexer": "ipython3",
   "version": "3.7.4"
  }
 },
 "nbformat": 4,
 "nbformat_minor": 4
}
